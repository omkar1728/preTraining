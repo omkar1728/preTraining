{
 "cells": [
  {
   "cell_type": "code",
   "execution_count": 1,
   "metadata": {},
   "outputs": [
    {
     "name": "stdout",
     "output_type": "stream",
     "text": [
      "0 rows affected.\n"
     ]
    },
    {
     "data": {
      "text/plain": [
       "[]"
      ]
     },
     "execution_count": 1,
     "metadata": {},
     "output_type": "execute_result"
    }
   ],
   "source": [
    "%load_ext sql\n",
    "\n",
    "%sql mysql+pymysql://root:@localhost/chocolates #connecting to db names chocolates running on local mysql server\n"
   ]
  },
  {
   "cell_type": "code",
   "execution_count": null,
   "metadata": {},
   "outputs": [],
   "source": [
    "%%sql\n",
    "CREATE TABLE\n",
    "    GEO (\n",
    "        GEOID VARCHAR(4) NOT NULL,\n",
    "        GEO TEXT,\n",
    "        REGION TEXT,\n",
    "        PRIMARY KEY (GEOID),\n",
    "        UNIQUE (GEO)\n",
    "    );"
   ]
  },
  {
   "cell_type": "code",
   "execution_count": null,
   "metadata": {},
   "outputs": [],
   "source": [
    "%%sql\n",
    "\n",
    "CREATE TABLE\n",
    "    PRODUCTS (\n",
    "        PID VARCHAR(10) NOT NULL PRIMARY KEY,\n",
    "        PRODUCT TEXT,\n",
    "        CATEGORY TEXT,\n",
    "        SIZE TEXT,\n",
    "        COST_PER_BOX DOUBLE\n",
    "    );\n"
   ]
  },
  {
   "cell_type": "code",
   "execution_count": null,
   "metadata": {},
   "outputs": [],
   "source": [
    "%%sql\n",
    "\n",
    "CREATE TABLE\n",
    "    SALES (\n",
    "        SPID TEXT,\n",
    "        GEOID TEXT,\n",
    "        PID TEXT,\n",
    "        SALEDATE DATETIME DEFAULT NOT NULL,\n",
    "        AMOUNT INT DEFAULT NULL,\n",
    "        CUSTOMERS INT DEFAULT NULL,\n",
    "        BOXES INT DEFAULT NULL,\n",
    "        CONSTRAINT fk_pid FOREIGN KEY (PID) REFERENCES PRODUCTS (PID),\n",
    "        CHECK (AMOUNT > 0)\n",
    "    );\n"
   ]
  },
  {
   "cell_type": "code",
   "execution_count": null,
   "metadata": {},
   "outputs": [],
   "source": [
    "%%sql\n",
    "\n",
    "CREATE TABLE\n",
    "    PEOPLE (\n",
    "        SPID VARCHAR(10) NOT NULL,\n",
    "        SALESPERSON TEXT,\n",
    "        TEAM TEXT,\n",
    "        LOCATION TEXT,\n",
    "        PRIMARY KEY (SPID)\n",
    "    );\n"
   ]
  }
 ],
 "metadata": {
  "kernelspec": {
   "display_name": "Python 3",
   "language": "python",
   "name": "python3"
  },
  "language_info": {
   "codemirror_mode": {
    "name": "ipython",
    "version": 3
   },
   "file_extension": ".py",
   "mimetype": "text/x-python",
   "name": "python",
   "nbconvert_exporter": "python",
   "pygments_lexer": "ipython3",
   "version": "3.10.4"
  }
 },
 "nbformat": 4,
 "nbformat_minor": 2
}
